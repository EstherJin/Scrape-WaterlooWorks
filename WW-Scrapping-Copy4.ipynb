{
 "cells": [
  {
   "cell_type": "code",
   "execution_count": 2,
   "metadata": {},
   "outputs": [],
   "source": [
    "from datetime import date\n",
    "import pandas as pd\n",
    "import numpy as np\n",
    "from selenium.webdriver.common.keys import Keys\n",
    "from selenium import webdriver # driving the actions, links up with the browser\n",
    "from bs4 import BeautifulSoup\n",
    "import time\n",
    "import re\n",
    "from pick import pick\n",
    "import progressbar\n",
    "import os"
   ]
  },
  {
   "cell_type": "code",
   "execution_count": 3,
   "metadata": {},
   "outputs": [],
   "source": [
    "# change the path\n",
    "\n",
    "search_webpage = 'https://waterlooworks.uwaterloo.ca/myAccount/co-op/coop-postings.htm'\n",
    "PATH = \"D:\\\\Program Files (x86)\\\\chromedriver.exe\"\n",
    "#driver = webdriver.Chrome(PATH)\n",
    "#driver.get(search_webpage)"
   ]
  },
  {
   "cell_type": "code",
   "execution_count": 4,
   "metadata": {},
   "outputs": [],
   "source": [
    "yes = [\"Yes\", \"Y\", \"YES\", \"y\", \"yes\"]\n",
    "starting_page = \"https://waterlooworks.uwaterloo.ca/myAccount/co-op/coop-postings.htm\"\n",
    "dashboard_url = \"http://waterlooworks.uwaterloo.ca/myAccount/co-op/coop-postings.htm\"\n",
    "login_url = 'https://cas.uwaterloo.ca/cas/login?service=https://waterlooworks.uwaterloo.ca/waterloo.htm'\n",
    "output_name = 'WW_postings.csv'\n",
    "choice = 'Application Deadlines in the next 10 Days'\n",
    "potential_html1 = None\n",
    "potential_html2 = None\n",
    "potential_html3 = None"
   ]
  },
  {
   "cell_type": "code",
   "execution_count": 5,
   "metadata": {},
   "outputs": [
    {
     "data": {
      "text/plain": [
       "{'Work Term Duration:': None,\n",
       " 'Job Summary:': None,\n",
       " 'Job Responsibilities:': None,\n",
       " 'Required Skills:': None,\n",
       " 'Targeted Degrees and Disciplines:': None,\n",
       " 'Application Documents Required:': None}"
      ]
     },
     "execution_count": 5,
     "metadata": {},
     "output_type": "execute_result"
    }
   ],
   "source": [
    "{\"Work Term Duration:\": None, # might need to do some regex filtering\n",
    "                                         \"Job Summary:\" : None,\n",
    "                                         \"Job Responsibilities:\": None,\n",
    "                                         \"Required Skills:\" : None,\n",
    "                                         \"Targeted Degrees and Disciplines:\": None,\n",
    "                                         \"Application Documents Required:\": None} "
   ]
  },
  {
   "cell_type": "code",
   "execution_count": 6,
   "metadata": {},
   "outputs": [
    {
     "data": {
      "text/html": [
       "<div>\n",
       "<style scoped>\n",
       "    .dataframe tbody tr th:only-of-type {\n",
       "        vertical-align: middle;\n",
       "    }\n",
       "\n",
       "    .dataframe tbody tr th {\n",
       "        vertical-align: top;\n",
       "    }\n",
       "\n",
       "    .dataframe thead th {\n",
       "        text-align: right;\n",
       "    }\n",
       "</style>\n",
       "<table border=\"1\" class=\"dataframe\">\n",
       "  <thead>\n",
       "    <tr style=\"text-align: right;\">\n",
       "      <th></th>\n",
       "      <th>ID</th>\n",
       "      <th>Job Title</th>\n",
       "      <th>Organization</th>\n",
       "      <th>Division</th>\n",
       "      <th>Openings</th>\n",
       "      <th>Internal Status</th>\n",
       "      <th>City</th>\n",
       "      <th>Level</th>\n",
       "      <th>Applications</th>\n",
       "      <th>App Deadline</th>\n",
       "      <th>Work Term Duration</th>\n",
       "      <th>Job Summary</th>\n",
       "      <th>Job Responsibilities</th>\n",
       "      <th>Required Skills</th>\n",
       "      <th>Targeted Degrees and Disciplines</th>\n",
       "      <th>Application Documents Required</th>\n",
       "    </tr>\n",
       "  </thead>\n",
       "  <tbody>\n",
       "  </tbody>\n",
       "</table>\n",
       "</div>"
      ],
      "text/plain": [
       "Empty DataFrame\n",
       "Columns: [ID, Job Title, Organization, Division, Openings, Internal Status, City, Level, Applications, App Deadline, Work Term Duration, Job Summary, Job Responsibilities, Required Skills, Targeted Degrees and Disciplines, Application Documents Required]\n",
       "Index: []"
      ]
     },
     "execution_count": 6,
     "metadata": {},
     "output_type": "execute_result"
    }
   ],
   "source": [
    "df = pd.DataFrame(columns=['ID', 'Job Title', 'Organization', 'Division', 'Openings', 'Internal Status', 'City', 'Level',\n",
    "                           'Applications', 'App Deadline', 'Work Term Duration', \"Job Summary\", \"Job Responsibilities\", \"Required Skills\", \n",
    "                           \"Targeted Degrees and Disciplines\", \"Application Documents Required\"])\n",
    "df"
   ]
  },
  {
   "cell_type": "code",
   "execution_count": 7,
   "metadata": {},
   "outputs": [
    {
     "data": {
      "text/html": [
       "<div>\n",
       "<style scoped>\n",
       "    .dataframe tbody tr th:only-of-type {\n",
       "        vertical-align: middle;\n",
       "    }\n",
       "\n",
       "    .dataframe tbody tr th {\n",
       "        vertical-align: top;\n",
       "    }\n",
       "\n",
       "    .dataframe thead th {\n",
       "        text-align: right;\n",
       "    }\n",
       "</style>\n",
       "<table border=\"1\" class=\"dataframe\">\n",
       "  <thead>\n",
       "    <tr style=\"text-align: right;\">\n",
       "      <th></th>\n",
       "      <th>ID</th>\n",
       "      <th>Job Title</th>\n",
       "      <th>Organization</th>\n",
       "      <th>Division</th>\n",
       "      <th>Openings</th>\n",
       "      <th>Internal Status</th>\n",
       "      <th>City</th>\n",
       "      <th>Level</th>\n",
       "      <th>Applications</th>\n",
       "      <th>App Deadline</th>\n",
       "      <th>Work Term Duration</th>\n",
       "      <th>Job Summary</th>\n",
       "      <th>Job Responsibilities</th>\n",
       "      <th>Required Skills</th>\n",
       "      <th>Targeted Degrees and Disciplines</th>\n",
       "      <th>Application Documents Required</th>\n",
       "    </tr>\n",
       "  </thead>\n",
       "  <tbody>\n",
       "  </tbody>\n",
       "</table>\n",
       "</div>"
      ],
      "text/plain": [
       "Empty DataFrame\n",
       "Columns: [ID, Job Title, Organization, Division, Openings, Internal Status, City, Level, Applications, App Deadline, Work Term Duration, Job Summary, Job Responsibilities, Required Skills, Targeted Degrees and Disciplines, Application Documents Required]\n",
       "Index: []"
      ]
     },
     "execution_count": 7,
     "metadata": {},
     "output_type": "execute_result"
    }
   ],
   "source": [
    "df"
   ]
  },
  {
   "cell_type": "code",
   "execution_count": null,
   "metadata": {},
   "outputs": [],
   "source": []
  },
  {
   "cell_type": "code",
   "execution_count": null,
   "metadata": {},
   "outputs": [
    {
     "name": "stdout",
     "output_type": "stream",
     "text": [
      "Are you ready?y\n",
      "Getting job lists ...\n",
      "Are you ready again?y\n",
      "Working\n",
      "1\n",
      "2\n",
      "3\n",
      "4\n",
      "5\n",
      "6\n",
      "7\n",
      "8\n",
      "9\n",
      "10\n",
      "11\n",
      "12\n",
      "13\n",
      "14\n",
      "15\n",
      "16\n",
      "17\n",
      "18\n",
      "19\n",
      "20\n",
      "21\n",
      "22\n",
      "23\n",
      "24\n",
      "25\n",
      "26\n",
      "27\n",
      "28\n",
      "29\n",
      "30\n",
      "31\n",
      "32\n",
      "33\n",
      "34\n",
      "35\n",
      "36\n",
      "37\n",
      "38\n",
      "39\n",
      "40\n",
      "41\n",
      "42\n",
      "43\n",
      "44\n"
     ]
    }
   ],
   "source": [
    "df = pd.DataFrame(columns=['ID', 'Job Title', 'Organization', 'Division', 'Openings', 'Internal Status', 'City', 'Level',\n",
    "                           'Applications', 'App Deadline', 'Work Term Duration', \"Job Summary\", \"Job Responsibilities\", \"Required Skills\", \n",
    "                           \"Targeted Degrees and Disciplines\", \"Application Documents Required\"])\n",
    "\n",
    "def main():\n",
    "    starting_page = \"https://waterlooworks.uwaterloo.ca/myAccount/co-op/coop-postings.htm\"\n",
    "\n",
    "    output_name = 'WW_postings.csv'\n",
    "    \n",
    "    browser = webdriver.Chrome(PATH)\n",
    "    browser.get(starting_page) # in original script, this was starting page\n",
    "\n",
    "    input('Are you ready?')\n",
    "\n",
    "    \n",
    "    data = get_job_lists(choice, browser, output_name)\n",
    "\n",
    "    print(\"Done!\")\n",
    "\n",
    "\n",
    "def get_job_lists(choice, browser, output_name):\n",
    "    \n",
    "    print(\"Getting job lists ...\")\n",
    "\n",
    "    # Navigate to the job listings page then wait for the javascript to load\n",
    "    browser.find_element_by_link_text(choice).click()\n",
    "\n",
    "    input(\"Are you ready again?\")\n",
    "    \n",
    "    # Get the HTML of the page and check if this is the last page (next_page_buttons)\n",
    "    page_html = browser.execute_script(\"return document.body.innerHTML\")\n",
    "    pattern = r'<a href=\".+?\" onclick=\"loadPostingTable(.+?)\">\\s*»\\s*<\\/a>'\n",
    "    next_page_buttons = []\n",
    "    next_page_buttons = re.findall(pattern, page_html)\n",
    "\n",
    "\n",
    "\n",
    "    # bar = progressbar.ProgressBar(max_value=self.job_lists_page_count)\n",
    "    # bar.update(self.gather_current_progress)\n",
    "\n",
    "\n",
    "    # dots for loading screen\n",
    "    dots = \"\"\n",
    "    counter_page = 0\n",
    "    # Scrape the tables and save it to output_name as a CSV\n",
    "    job_posting_importants_order = ['Work Term Duration:', \"Job Summary:\", \"Job Responsibilities:\", \"Required Skills:\", \n",
    "                                    \"Targeted Degrees and Disciplines:\", \"Application Documents Required:\"]\n",
    "    with open(output_name, 'w') as f:\n",
    "        row_count = 0\n",
    "        job_count = 0\n",
    "        while (counter_page < 3):\n",
    "            counter_page += 1\n",
    "            # loading screen stuff\n",
    "            os.system('clear')\n",
    "            print(\"Working\" + dots)\n",
    "            # update dots\n",
    "            if (dots == \"...\"):\n",
    "                dots = \"\"\n",
    "            else:\n",
    "                dots += \".\"\n",
    "\n",
    "            # wait for JavaScript to load then download the page info\n",
    "            time.sleep(2)\n",
    "            soup = BeautifulSoup(page_html, \"html.parser\")\n",
    "            \n",
    "            for tr in soup.find_all('tr')[2:]: # iterating throw all rows\n",
    "            \n",
    "                \n",
    "                job_count += 1\n",
    "                print(job_count)\n",
    "                try:\n",
    "                    # all the data that was not in the original script\n",
    "                    job_posting_importants = {\"Work Term Duration:\": None, # might need to do some regex filtering\n",
    "                                             \"Job Summary:\" : None,\n",
    "                                             \"Job Responsibilities:\": None,\n",
    "                                             \"Required Skills:\" : None,\n",
    "                                             \"Targeted Degrees and Disciplines:\": None,\n",
    "                                             \"Application Documents Required:\": None} \n",
    "\n",
    "\n",
    "                    tds = tr.find_all('td') # iterating all cells in each row.\n",
    "                    count = 0\n",
    "                    job_info_list = []\n",
    "                    for x in tds[0:-1]: # starting with the 3 buttons\n",
    "\n",
    "\n",
    "                        if (count == 0): # at 3 buttons\n",
    "                            link_container = x.find_all('a')[2]\n",
    "\n",
    "                            onclick_link = link_container['onclick']\n",
    "\n",
    "                            # clicking the onclick link:\n",
    "                            browser.execute_script(onclick_link)\n",
    "                            browser.switch_to.window(browser.window_handles[1])\n",
    "\n",
    "                            # give the browser 1 seconds for the website to catch up with the code\n",
    "                            browser.implicitly_wait(2)\n",
    "\n",
    "                            time.sleep(3)\n",
    "                            # do stuff, locate the texts of 'job posting importants'\n",
    "\n",
    "                            #saving the contents of the html of the new page:\n",
    "                            indiv_html = browser.execute_script(\"return document.body.innerHTML\")\n",
    "                            indiv_posting = BeautifulSoup(indiv_html, \"html.parser\")\n",
    "\n",
    "                            # finding the third 'table' in the page, as the first table is no use to us\n",
    "\n",
    "                            job_posting_information_table = indiv_posting.find_all('table', {'class': 'table-bordered'})[1]\n",
    "\n",
    "\n",
    "                            \n",
    "                            #print(job_posting_information_table)\n",
    "\n",
    "\n",
    "                            # iterating through all rows in the table\n",
    "                            for row in job_posting_information_table.find_all('tr'): \n",
    "                                cell_list = row.find_all('td')\n",
    "                                try:\n",
    "                                    key = cell_list[0].get_text().strip()\n",
    "                                except:\n",
    "                                    continue\n",
    "\n",
    "\n",
    "                                if (key in job_posting_importants):\n",
    "                                    try:\n",
    "                                        job_posting_importants[key] = cell_list[1].get_text().strip()\n",
    "                                    except:\n",
    "                                        job_posting_importants[key] = \"\"\n",
    "\n",
    "\n",
    "                            application_information_table = indiv_posting.find_all('table', {'class': 'table-bordered'})[2]\n",
    "                            job_posting_importants[\"Application Documents Required:\"] = application_information_table.find_all('td')[3].get_text().strip()\n",
    "\n",
    "                            browser.close() # close current tab\n",
    "                            browser.switch_to.window(browser.window_handles[0])\n",
    "\n",
    "                            #print(\"lala\")\n",
    "                        if (count >= 2):  \n",
    "                            #print(x.text)\n",
    "                            job_info_list.append(str(x.text))\n",
    "\n",
    "                        count += 1\n",
    "\n",
    "\n",
    "                    for col in job_posting_importants_order:\n",
    "                        job_info_list.append(job_posting_importants[col])\n",
    "\n",
    "                    df.loc[row_count] = job_info_list\n",
    "                    row_count+=1\n",
    "                except:\n",
    "                    continue\n",
    "                \n",
    "            # navigate to the next page and get the HTML, next page buttons\n",
    "            next_page_buttons = re.findall(pattern, page_html)\n",
    "            browser.find_element_by_link_text(\"»\").click()\n",
    "            time.sleep(2)\n",
    "            page_html = browser.execute_script(\"return document.body.innerHTML\")\n",
    "\n",
    "\n",
    "if __name__ == \"__main__\":\n",
    "    main()"
   ]
  },
  {
   "cell_type": "code",
   "execution_count": null,
   "metadata": {},
   "outputs": [],
   "source": [
    "df"
   ]
  },
  {
   "cell_type": "code",
   "execution_count": null,
   "metadata": {},
   "outputs": [],
   "source": []
  },
  {
   "cell_type": "code",
   "execution_count": null,
   "metadata": {},
   "outputs": [],
   "source": [
    "df.to_csv('viewed.csv')"
   ]
  },
  {
   "cell_type": "code",
   "execution_count": null,
   "metadata": {},
   "outputs": [],
   "source": [
    "ds = df.copy()\n"
   ]
  },
  {
   "cell_type": "code",
   "execution_count": null,
   "metadata": {},
   "outputs": [],
   "source": [
    "pip install openpyxl\n"
   ]
  },
  {
   "cell_type": "code",
   "execution_count": null,
   "metadata": {},
   "outputs": [],
   "source": [
    "a = {\"bob\": 2, 'sam':6, 'asd':123}\n",
    "a.values()"
   ]
  },
  {
   "cell_type": "code",
   "execution_count": null,
   "metadata": {},
   "outputs": [],
   "source": [
    "' '.join(\"j, i, s\".split())"
   ]
  },
  {
   "cell_type": "code",
   "execution_count": null,
   "metadata": {},
   "outputs": [],
   "source": [
    "e2jin@uwaterloo.ca\n",
    "Eevee1218."
   ]
  }
 ],
 "metadata": {
  "kernelspec": {
   "display_name": "Python 3",
   "language": "python",
   "name": "python3"
  },
  "language_info": {
   "codemirror_mode": {
    "name": "ipython",
    "version": 3
   },
   "file_extension": ".py",
   "mimetype": "text/x-python",
   "name": "python",
   "nbconvert_exporter": "python",
   "pygments_lexer": "ipython3",
   "version": "3.8.3"
  }
 },
 "nbformat": 4,
 "nbformat_minor": 5
}
